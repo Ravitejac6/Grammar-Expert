{
  "nbformat": 4,
  "nbformat_minor": 0,
  "metadata": {
    "colab": {
      "name": "ge1.ipynb",
      "provenance": [],
      "collapsed_sections": []
    },
    "kernelspec": {
      "name": "python3",
      "display_name": "Python 3"
    },
    "accelerator": "GPU"
  },
  "cells": [
    {
      "cell_type": "code",
      "metadata": {
        "id": "ggmihxZrnlsP",
        "colab_type": "code",
        "colab": {}
      },
      "source": [
        "import pandas as pd\n",
        "import matplotlib.pyplot as plt"
      ],
      "execution_count": 0,
      "outputs": []
    },
    {
      "cell_type": "code",
      "metadata": {
        "id": "ukgbkLFzoDNI",
        "colab_type": "code",
        "colab": {}
      },
      "source": [
        "data = pd.read_csv('data.csv',encoding='cp1252')"
      ],
      "execution_count": 0,
      "outputs": []
    },
    {
      "cell_type": "code",
      "metadata": {
        "id": "mNk57ba7stFZ",
        "colab_type": "code",
        "outputId": "4c755357-b21f-47dd-9b69-415705d10286",
        "colab": {
          "base_uri": "https://localhost:8080/",
          "height": 478
        }
      },
      "source": [
        "data[0:10]"
      ],
      "execution_count": 0,
      "outputs": [
        {
          "output_type": "execute_result",
          "data": {
            "text/html": [
              "<div>\n",
              "<style scoped>\n",
              "    .dataframe tbody tr th:only-of-type {\n",
              "        vertical-align: middle;\n",
              "    }\n",
              "\n",
              "    .dataframe tbody tr th {\n",
              "        vertical-align: top;\n",
              "    }\n",
              "\n",
              "    .dataframe thead th {\n",
              "        text-align: right;\n",
              "    }\n",
              "</style>\n",
              "<table border=\"1\" class=\"dataframe\">\n",
              "  <thead>\n",
              "    <tr style=\"text-align: right;\">\n",
              "      <th></th>\n",
              "      <th>uid</th>\n",
              "      <th>qid</th>\n",
              "      <th>question</th>\n",
              "      <th>answer</th>\n",
              "      <th>score</th>\n",
              "      <th>spellingErrors</th>\n",
              "      <th>grammarErrors</th>\n",
              "    </tr>\n",
              "  </thead>\n",
              "  <tbody>\n",
              "    <tr>\n",
              "      <th>0</th>\n",
              "      <td>10</td>\n",
              "      <td>3</td>\n",
              "      <td>Mobile phones are a menace</td>\n",
              "      <td>nad showed lots of suggestions so see what it ...</td>\n",
              "      <td>0.00</td>\n",
              "      <td>1</td>\n",
              "      <td>0</td>\n",
              "    </tr>\n",
              "    <tr>\n",
              "      <th>1</th>\n",
              "      <td>25</td>\n",
              "      <td>3</td>\n",
              "      <td>Mobile phones are a menace</td>\n",
              "      <td>I Know but can't live with them...</td>\n",
              "      <td>0.00</td>\n",
              "      <td>0</td>\n",
              "      <td>0</td>\n",
              "    </tr>\n",
              "    <tr>\n",
              "      <th>2</th>\n",
              "      <td>25</td>\n",
              "      <td>3</td>\n",
              "      <td>Mobile phones are a menace</td>\n",
              "      <td>&lt;script&gt;\\n\\nwindow.alertI(\\</td>\n",
              "      <td>0.00</td>\n",
              "      <td>1</td>\n",
              "      <td>2</td>\n",
              "    </tr>\n",
              "    <tr>\n",
              "      <th>3</th>\n",
              "      <td>25</td>\n",
              "      <td>3</td>\n",
              "      <td>Mobile phones are a menace</td>\n",
              "      <td>&lt;script&gt;\\n\\nwindow.alert(\\</td>\n",
              "      <td>0.00</td>\n",
              "      <td>0</td>\n",
              "      <td>2</td>\n",
              "    </tr>\n",
              "    <tr>\n",
              "      <th>4</th>\n",
              "      <td>88</td>\n",
              "      <td>4</td>\n",
              "      <td>01. It is important to learn social and mathem...</td>\n",
              "      <td>In order to improve our logical ability, it is...</td>\n",
              "      <td>9.50</td>\n",
              "      <td>2</td>\n",
              "      <td>0</td>\n",
              "    </tr>\n",
              "    <tr>\n",
              "      <th>5</th>\n",
              "      <td>28</td>\n",
              "      <td>4</td>\n",
              "      <td>01. It is important to learn social and mathem...</td>\n",
              "      <td>It is important to learn social and mathematic...</td>\n",
              "      <td>9.29</td>\n",
              "      <td>0</td>\n",
              "      <td>2</td>\n",
              "    </tr>\n",
              "    <tr>\n",
              "      <th>6</th>\n",
              "      <td>35</td>\n",
              "      <td>4</td>\n",
              "      <td>01. It is important to learn social and mathem...</td>\n",
              "      <td>First going to agree with the quotation, why s...</td>\n",
              "      <td>7.07</td>\n",
              "      <td>0</td>\n",
              "      <td>5</td>\n",
              "    </tr>\n",
              "    <tr>\n",
              "      <th>7</th>\n",
              "      <td>307</td>\n",
              "      <td>4</td>\n",
              "      <td>01. It is important to learn social and mathem...</td>\n",
              "      <td>Every subject is important and they have their...</td>\n",
              "      <td>4.69</td>\n",
              "      <td>4</td>\n",
              "      <td>12</td>\n",
              "    </tr>\n",
              "    <tr>\n",
              "      <th>8</th>\n",
              "      <td>310</td>\n",
              "      <td>4</td>\n",
              "      <td>01. It is important to learn social and mathem...</td>\n",
              "      <td>It is really important to learn social and mat...</td>\n",
              "      <td>8.28</td>\n",
              "      <td>1</td>\n",
              "      <td>5</td>\n",
              "    </tr>\n",
              "    <tr>\n",
              "      <th>9</th>\n",
              "      <td>92</td>\n",
              "      <td>4</td>\n",
              "      <td>01. It is important to learn social and mathem...</td>\n",
              "      <td>The most common subjects in our childhood are ...</td>\n",
              "      <td>9.08</td>\n",
              "      <td>1</td>\n",
              "      <td>2</td>\n",
              "    </tr>\n",
              "  </tbody>\n",
              "</table>\n",
              "</div>"
            ],
            "text/plain": [
              "   uid  qid  ... spellingErrors grammarErrors\n",
              "0   10    3  ...              1             0\n",
              "1   25    3  ...              0             0\n",
              "2   25    3  ...              1             2\n",
              "3   25    3  ...              0             2\n",
              "4   88    4  ...              2             0\n",
              "5   28    4  ...              0             2\n",
              "6   35    4  ...              0             5\n",
              "7  307    4  ...              4            12\n",
              "8  310    4  ...              1             5\n",
              "9   92    4  ...              1             2\n",
              "\n",
              "[10 rows x 7 columns]"
            ]
          },
          "metadata": {
            "tags": []
          },
          "execution_count": 3
        }
      ]
    },
    {
      "cell_type": "code",
      "metadata": {
        "id": "BCqRu2DqFDSQ",
        "colab_type": "code",
        "outputId": "36b8c3dd-9419-4e47-f3d2-f78e4ce2e430",
        "colab": {
          "base_uri": "https://localhost:8080/",
          "height": 34
        }
      },
      "source": [
        "data.shape"
      ],
      "execution_count": 0,
      "outputs": [
        {
          "output_type": "execute_result",
          "data": {
            "text/plain": [
              "(17412, 7)"
            ]
          },
          "metadata": {
            "tags": []
          },
          "execution_count": 6
        }
      ]
    },
    {
      "cell_type": "code",
      "metadata": {
        "id": "21eqn-dNFxEp",
        "colab_type": "code",
        "outputId": "135921da-83c1-4d73-e1a4-ae13edde7f76",
        "colab": {
          "base_uri": "https://localhost:8080/",
          "height": 34
        }
      },
      "source": [
        "ques = data['question']\n",
        "ques = list(set(ques))\n",
        "print(len(ques))"
      ],
      "execution_count": 0,
      "outputs": [
        {
          "output_type": "stream",
          "text": [
            "170\n"
          ],
          "name": "stdout"
        }
      ]
    },
    {
      "cell_type": "code",
      "metadata": {
        "id": "Mt5saUCKs0HL",
        "colab_type": "code",
        "outputId": "b0c6c132-5380-4993-c89c-45e2866515fe",
        "colab": {
          "base_uri": "https://localhost:8080/",
          "height": 283
        }
      },
      "source": [
        "plt.hist(data['score'])\n",
        "plt.xlabel(\"Score\")\n",
        "plt.show()"
      ],
      "execution_count": 0,
      "outputs": [
        {
          "output_type": "display_data",
          "data": {
            "image/png": "[encoded data removed]",
            "text/plain": [
              "<Figure size 432x288 with 1 Axes>"
            ]
          },
          "metadata": {
            "tags": []
          }
        }
      ]
    },
    {
      "cell_type": "code",
      "metadata": {
        "id": "EZe9stdRg5_n",
        "colab_type": "code",
        "outputId": "fd701947-e9cc-4224-8d66-ea2ffd151877",
        "colab": {
          "base_uri": "https://localhost:8080/",
          "height": 102
        }
      },
      "source": [
        "import nltk\n",
        "nltk.download('stopwords')\n",
        "nltk.download('wordnet')"
      ],
      "execution_count": 0,
      "outputs": [
        {
          "output_type": "stream",
          "text": [
            "[nltk_data] Downloading package stopwords to /root/nltk_data...\n",
            "[nltk_data]   Unzipping corpora/stopwords.zip.\n",
            "[nltk_data] Downloading package wordnet to /root/nltk_data...\n",
            "[nltk_data]   Unzipping corpora/wordnet.zip.\n"
          ],
          "name": "stdout"
        },
        {
          "output_type": "execute_result",
          "data": {
            "text/plain": [
              "True"
            ]
          },
          "metadata": {
            "tags": []
          },
          "execution_count": 4
        }
      ]
    },
    {
      "cell_type": "code",
      "metadata": {
        "id": "p5m3yBZavJLR",
        "colab_type": "code",
        "colab": {}
      },
      "source": [
        "\n",
        "from nltk.corpus import stopwords\n",
        "from nltk.stem import WordNetLemmatizer\n",
        "import re\n",
        "word_net_lemmatizer = WordNetLemmatizer()\n",
        "def preprocess(text):\n",
        "  letters_only = re.sub('[^a-zA-Z]',\" \",text)\n",
        "  words = letters_only.lower().split()\n",
        "  stpwords = set(stopwords.words(\"english\"))\n",
        "  clean_words = list(set([w for w in words if w not in stpwords]))\n",
        "  lemmatized_words = list(set([word_net_lemmatizer.lemmatize(w) for w in clean_words]))\n",
        "  return lemmatized_words"
      ],
      "execution_count": 0,
      "outputs": []
    },
    {
      "cell_type": "code",
      "metadata": {
        "id": "zYhBaJ2hdhQQ",
        "colab_type": "code",
        "outputId": "e2a31db2-a12e-44d7-bc2c-4ad50718fcd3",
        "colab": {
          "base_uri": "https://localhost:8080/",
          "height": 34
        }
      },
      "source": [
        "res=\"\"\n",
        "for ans in data['answer']:\n",
        "  res+=str(ans)\n",
        "for ques in data['question']:\n",
        "  res+=str(ques)"
      ],
      "execution_count": 0,
      "outputs": [
        {
          "output_type": "stream",
          "text": [
            "<class 'list'>\n"
          ],
          "name": "stdout"
        }
      ]
    },
    {
      "cell_type": "code",
      "metadata": {
        "id": "uEzY6_CBAbD1",
        "colab_type": "code",
        "outputId": "5d5a9d75-481c-4f06-a0c0-736e4a0d28a3",
        "colab": {
          "base_uri": "https://localhost:8080/",
          "height": 64
        }
      },
      "source": [
        "documents=[]\n",
        "for ans in data['answer']:\n",
        "  documents.append(ans)\n",
        "for ques in data['question']:\n",
        "  documents.append(ques)\n",
        "print(documents[0:5])"
      ],
      "execution_count": 0,
      "outputs": [
        {
          "output_type": "stream",
          "text": [
            "['nad showed lots of suggestions so see what it shows now.', \"I Know but can't live with them...\", '<script>\\\\n\\\\nwindow.alertI(\\\\', '<script>\\\\n\\\\nwindow.alert(\\\\', 'In order to improve our logical ability, it is more important to learn mathematics and also in order to know about the ethical values we need to learn the social which improves the knowledge. Nowadays, most of the children have no idea about the social, the duty of their parents is to teach ethical values, Not only the parents but also the responsibility of the teachers to teach about the values. It improves more and more knowledge and also increases our thinking ability which makes our mind power strengthen. The maths problems that which we solve makes our mind think in different possible ways and also gains the practical knowledge. Today the education system also depends upon the problem-solving. The learning of social knows about the ethical values and knows about our past generations and knows about the culture. The learnings of social gain the knowledge of our ancient history and our civilizations and about the kingdoms and the importance of our religions which makes our mind more peaceful and also we know about the prominent history of our country, our traditions, etc. Nowadays, all are not familiar with our ancient history, If read our social we came to know about the background knowledge of our culture, the environment in our past days and also the customs and traditions. Leaning all these make our good attitude and develop our skills and the good behavior in our society. The above all things makes our lives flexible, It is responsible for each and every individual to share the ethical knowledge to other people so that each and every individual learn the things and develop the knowledge. It is important to know the social and mathematics in order to improve our knowledge and ethical values that knows about the importance of the people and the society.  ']\n"
          ],
          "name": "stdout"
        }
      ]
    },
    {
      "cell_type": "code",
      "metadata": {
        "id": "xDA8ntyjBRHu",
        "colab_type": "code",
        "colab": {}
      },
      "source": [
        "mod_document=[]\n",
        "def preprocess_doc(line):\n",
        "    modified=[]\n",
        "    modified=re.sub('[^a-zA-z]',\" \",str(line))\n",
        "    mod_document.extend([modified])\n",
        "\n",
        "for i in range(len(documents)):\n",
        "  preprocess_doc(documents[i])"
      ],
      "execution_count": 0,
      "outputs": []
    },
    {
      "cell_type": "code",
      "metadata": {
        "id": "TLyvFWLyD08f",
        "colab_type": "code",
        "outputId": "9e91c15d-e366-4d72-ba2c-5d700f740cc6",
        "colab": {
          "base_uri": "https://localhost:8080/",
          "height": 132
        }
      },
      "source": [
        "mod_document[0:5]"
      ],
      "execution_count": 0,
      "outputs": [
        {
          "output_type": "execute_result",
          "data": {
            "text/plain": [
              "['nad showed lots of suggestions so see what it shows now ',\n",
              " 'I Know but can t live with them   ',\n",
              " ' script \\\\n\\\\nwindow alertI \\\\',\n",
              " ' script \\\\n\\\\nwindow alert \\\\',\n",
              " 'In order to improve our logical ability  it is more important to learn mathematics and also in order to know about the ethical values we need to learn the social which improves the knowledge  Nowadays  most of the children have no idea about the social  the duty of their parents is to teach ethical values  Not only the parents but also the responsibility of the teachers to teach about the values  It improves more and more knowledge and also increases our thinking ability which makes our mind power strengthen  The maths problems that which we solve makes our mind think in different possible ways and also gains the practical knowledge  Today the education system also depends upon the problem solving  The learning of social knows about the ethical values and knows about our past generations and knows about the culture  The learnings of social gain the knowledge of our ancient history and our civilizations and about the kingdoms and the importance of our religions which makes our mind more peaceful and also we know about the prominent history of our country  our traditions  etc  Nowadays  all are not familiar with our ancient history  If read our social we came to know about the background knowledge of our culture  the environment in our past days and also the customs and traditions  Leaning all these make our good attitude and develop our skills and the good behavior in our society  The above all things makes our lives flexible  It is responsible for each and every individual to share the ethical knowledge to other people so that each and every individual learn the things and develop the knowledge  It is important to know the social and mathematics in order to improve our knowledge and ethical values that knows about the importance of the people and the society   ']"
            ]
          },
          "metadata": {
            "tags": []
          },
          "execution_count": 61
        }
      ]
    },
    {
      "cell_type": "code",
      "metadata": {
        "id": "HvTqcDaxbMtC",
        "colab_type": "code",
        "colab": {}
      },
      "source": [
        "vocab = preprocess(res)\n"
      ],
      "execution_count": 0,
      "outputs": []
    },
    {
      "cell_type": "code",
      "metadata": {
        "id": "isHlslzYdNjI",
        "colab_type": "code",
        "outputId": "5719ea64-c94f-4cac-fd83-62257fd67e26",
        "colab": {
          "base_uri": "https://localhost:8080/",
          "height": 34
        }
      },
      "source": [
        "vocab.index('mobile')"
      ],
      "execution_count": 0,
      "outputs": [
        {
          "output_type": "execute_result",
          "data": {
            "text/plain": [
              "319"
            ]
          },
          "metadata": {
            "tags": []
          },
          "execution_count": 63
        }
      ]
    },
    {
      "cell_type": "code",
      "metadata": {
        "id": "0Pb6HZuLjhV3",
        "colab_type": "code",
        "outputId": "50d1acbe-2c93-4f95-8174-718d825cd4cd",
        "colab": {
          "base_uri": "https://localhost:8080/",
          "height": 34
        }
      },
      "source": [
        "len(vocab)"
      ],
      "execution_count": 0,
      "outputs": [
        {
          "output_type": "execute_result",
          "data": {
            "text/plain": [
              "29492"
            ]
          },
          "metadata": {
            "tags": []
          },
          "execution_count": 118
        }
      ]
    },
    {
      "cell_type": "code",
      "metadata": {
        "id": "5dpWibZpdcX8",
        "colab_type": "code",
        "colab": {}
      },
      "source": [
        "from gensim.models import Word2Vec"
      ],
      "execution_count": 0,
      "outputs": []
    },
    {
      "cell_type": "code",
      "metadata": {
        "id": "lYzcuJCDMA7p",
        "colab_type": "code",
        "outputId": "a1a5df3d-5699-4753-b4e6-e8f35eb4b930",
        "colab": {
          "base_uri": "https://localhost:8080/",
          "height": 98
        }
      },
      "source": [
        "model = Word2Vec([vocab],size=300,window=10,min_count=1,workers=10)\n",
        "\n",
        "model.train(mod_document,total_examples=len(mod_document),epochs=10)"
      ],
      "execution_count": 0,
      "outputs": [
        {
          "output_type": "stream",
          "text": [
            "/usr/local/lib/python3.6/dist-packages/ipykernel_launcher.py:2: DeprecationWarning: Call to deprecated `__getitem__` (Method will be removed in 4.0.0, use self.wv.__getitem__() instead).\n",
            "  \n"
          ],
          "name": "stderr"
        },
        {
          "output_type": "execute_result",
          "data": {
            "text/plain": [
              "(135353270, 207714570)"
            ]
          },
          "metadata": {
            "tags": []
          },
          "execution_count": 77
        }
      ]
    },
    {
      "cell_type": "code",
      "metadata": {
        "id": "VHTu1l4wQYpR",
        "colab_type": "code",
        "outputId": "7fcaf905-9d19-4a2a-8439-f0bc7d0a8718",
        "colab": {
          "base_uri": "https://localhost:8080/",
          "height": 98
        }
      },
      "source": [
        "type(model['mobile'])"
      ],
      "execution_count": 0,
      "outputs": [
        {
          "output_type": "stream",
          "text": [
            "/usr/local/lib/python3.6/dist-packages/ipykernel_launcher.py:1: DeprecationWarning: Call to deprecated `__getitem__` (Method will be removed in 4.0.0, use self.wv.__getitem__() instead).\n",
            "  \"\"\"Entry point for launching an IPython kernel.\n"
          ],
          "name": "stderr"
        },
        {
          "output_type": "execute_result",
          "data": {
            "text/plain": [
              "numpy.ndarray"
            ]
          },
          "metadata": {
            "tags": []
          },
          "execution_count": 86
        }
      ]
    },
    {
      "cell_type": "code",
      "metadata": {
        "id": "wcul-T6bqytJ",
        "colab_type": "code",
        "colab": {}
      },
      "source": [
        "query1=\"It is important to learn social and mathematics rather than history and literature.\"\n",
        "answer1=\"In order to improve our logical ability, it is more important to learn mathematics and also in order to know about the ethical values we need to learn the social which improves the knowledge. Nowadays, most of the children have no idea about the social, the duty of their parents is to teach ethical values, Not only the parents but also the responsibility of the teachers to teach about the values. It improves more and more knowledge and also increases our thinking ability which makes our mind power strengthen. The maths problems that which we solve makes our mind think in different possible ways and also gains the practical knowledge. Today the education system also depends upon the problem-solving. The learning of social knows about the ethical values and knows about our past generations and knows about the culture. The learnings of social gain the knowledge of our ancient history and our civilizations and about the kingdoms and the importance of our religions which makes our mind more peaceful and also we know about the prominent history of our country, our traditions, etc. Nowadays, all are not familiar with our ancient history, If read our social we came to know about the background knowledge of our culture, the environment in our past days and also the customs and traditions. Leaning all these make our good attitude and develop our skills and the good behavior in our society. The above all things makes our lives flexible, It is responsible for each and every individual to share the ethical knowledge to other people so that each and every individual learn the things and develop the knowledge. It is important to know the social and mathematics in order to improve our knowledge and ethical values that knows about the importance of the people and the society.\"  "
      ],
      "execution_count": 0,
      "outputs": []
    },
    {
      "cell_type": "code",
      "metadata": {
        "id": "nSPfdhrco5wm",
        "colab_type": "code",
        "colab": {}
      },
      "source": [
        "from scipy.spatial import distance\n",
        "import scipy\n",
        "import numpy as np\n",
        "def cosine_similarity(query,answer):\n",
        "  vector1 = np.mean([model[word] for word in preprocess(query) if word in w2vmodel.wv.vocab],axis=0)\n",
        "  vector2 = np.mean([model[word] for word in preprocess(answer) if word in w2vmodel.wv.vocab],axis=0)\n",
        "  sim = scipy.spatial.distance.cosine(vector1,vector2)\n",
        "  print(sim)"
      ],
      "execution_count": 0,
      "outputs": []
    },
    {
      "cell_type": "code",
      "metadata": {
        "id": "asTXe3dbrc3B",
        "colab_type": "code",
        "outputId": "1ce04b99-112a-4648-8353-5ef9a11fc39a",
        "colab": {
          "base_uri": "https://localhost:8080/",
          "height": 132
        }
      },
      "source": [
        "cosine_similarity(query1,answer1)"
      ],
      "execution_count": 0,
      "outputs": [
        {
          "output_type": "stream",
          "text": [
            "0.706404983997345\n"
          ],
          "name": "stdout"
        },
        {
          "output_type": "stream",
          "text": [
            "/usr/local/lib/python3.6/dist-packages/ipykernel_launcher.py:5: DeprecationWarning: Call to deprecated `__getitem__` (Method will be removed in 4.0.0, use self.wv.__getitem__() instead).\n",
            "  \"\"\"\n",
            "/usr/local/lib/python3.6/dist-packages/ipykernel_launcher.py:6: DeprecationWarning: Call to deprecated `__getitem__` (Method will be removed in 4.0.0, use self.wv.__getitem__() instead).\n",
            "  \n"
          ],
          "name": "stderr"
        }
      ]
    },
    {
      "cell_type": "code",
      "metadata": {
        "id": "IbLJSbjWR-Pb",
        "colab_type": "code",
        "colab": {}
      },
      "source": [
        "stpwords = set(stopwords.words(\"english\"))"
      ],
      "execution_count": 0,
      "outputs": []
    },
    {
      "cell_type": "code",
      "metadata": {
        "id": "TZc7I3lBrh8y",
        "colab_type": "code",
        "colab": {}
      },
      "source": [
        "def TF(term,doc):\n",
        "    doc_wordcount = {}\n",
        "    filtered = preprocess(doc)\n",
        "    for word in filtered:\n",
        "        count = doc_wordcount.get(word,0)\n",
        "        doc_wordcount[word] = count + 1\n",
        "    #print(doc_wordcount)\n",
        "    return doc_wordcount[term]/len(doc)"
      ],
      "execution_count": 0,
      "outputs": []
    },
    {
      "cell_type": "code",
      "metadata": {
        "id": "meJUeaFFSHqD",
        "colab_type": "code",
        "colab": {}
      },
      "source": [
        "import math\n",
        "def IDF(term,vocab):\n",
        "    DF = 0\n",
        "    for doc in vocab:\n",
        "       if term in doc:\n",
        "        DF = DF+1\n",
        "    return math.log2(len(vocab)/DF)"
      ],
      "execution_count": 0,
      "outputs": []
    },
    {
      "cell_type": "code",
      "metadata": {
        "id": "ek8NPgYjSqPU",
        "colab_type": "code",
        "colab": {}
      },
      "source": [
        "def TF_IDF(term, vocab):\n",
        "    tf = TF(term, vocab[0])\n",
        "    idf = IDF(term, vocab)\n",
        "    return tf*idf"
      ],
      "execution_count": 0,
      "outputs": []
    },
    {
      "cell_type": "code",
      "metadata": {
        "id": "2A4daFpdSvdR",
        "colab_type": "code",
        "colab": {}
      },
      "source": [
        "from scipy.spatial import distance\n",
        "import scipy\n",
        "import numpy as np\n",
        "def cosine_similarity_sif(query,answer):\n",
        "  vector1 = np.mean([(0.001/(TF(word,query)+0.001))*model[word] for word in preprocess(query) if word in w2vmodel.wv.vocab],axis=0)\n",
        "  vector2 = np.mean([(0.001/(TF(word,answer)+0.001))*model[word] for word in preprocess(answer) if word in w2vmodel.wv.vocab],axis=0)\n",
        "  sim = scipy.spatial.distance.cosine(vector1,vector2)\n",
        "  print(sim)"
      ],
      "execution_count": 0,
      "outputs": []
    },
    {
      "cell_type": "code",
      "metadata": {
        "id": "m1VuALQMTyv8",
        "colab_type": "code",
        "outputId": "f12f1c36-6cff-4317-8217-a09797727153",
        "colab": {
          "base_uri": "https://localhost:8080/",
          "height": 207
        }
      },
      "source": [
        "cosine_similarity_sif(query1,answer1)"
      ],
      "execution_count": 0,
      "outputs": [
        {
          "output_type": "stream",
          "text": [
            "0.706404983997345\n"
          ],
          "name": "stdout"
        },
        {
          "output_type": "stream",
          "text": [
            "/usr/local/lib/python3.6/dist-packages/ipykernel_launcher.py:5: DeprecationWarning: Call to deprecated `__getitem__` (Method will be removed in 4.0.0, use self.wv.__getitem__() instead).\n",
            "  \"\"\"\n",
            "/usr/local/lib/python3.6/dist-packages/ipykernel_launcher.py:6: DeprecationWarning: Call to deprecated `__getitem__` (Method will be removed in 4.0.0, use self.wv.__getitem__() instead).\n",
            "  \n"
          ],
          "name": "stderr"
        }
      ]
    },
    {
      "cell_type": "code",
      "metadata": {
        "id": "FpuuC3X0YNp3",
        "colab_type": "code",
        "outputId": "ba6f0759-a2ad-4839-cf16-2036b3ce37a1",
        "colab": {
          "base_uri": "https://localhost:8080/",
          "height": 192
        }
      },
      "source": [
        "query2=\"Mobile phones are a menace\"\n",
        "answer2=\"From my point of view mobile phones have advantges and disadvantages. Some people think that mobile phones are harmful and some think they are useful. Firstly i will discuss how mobile phones are a blessing and the good things that they hold. This is a constant issue of debate particularly between this generation and older generations. A mobile phone can distract people from things that they should be concentrating on. \\n                                           Later moving towards advantages, it is used to connect people. On the other hand having a mobile phone can be a great thing. Whenever people want to go anywhere they need mobile to book tickets. Nowadays internet takes a prominent role in our society. It is useful to know anything which are happening in our society. Mostly people are finding their knowledge by using mobiles. Apart of advantages, mobile phoes have disadvantages. It ruins the people mind. People are misusing mobiles in a wrong manner. People are badly addicting towards mobiles. Moreover, people are going to find the enjoyment by using mobiles. However this invention change the people behaiour. This is the main reason to become a slave of it. Mostly students are addicting towards it. Those are misusing this one in a different path. \\n                                            Coming to conclusion, molbile phones have adverse effects on people who are roaming in our world. People has to use this invention in an appropriate manner. By misusing this one will be a punnishable offence. People do not change their mind by adding towards it. They have to use it in a useful manner. People have to take care of their eyes while using mobiles. Government have to provide some acts whilch are useful to avoid mobiles. This will be useful to change our society with good manner. Finally, one has to use mobiles for their uses not for their misuse\"\n",
        "cosine_similarity_sif(query2,answer2)"
      ],
      "execution_count": 0,
      "outputs": [
        {
          "output_type": "stream",
          "text": [
            "0.915619395673275\n"
          ],
          "name": "stdout"
        },
        {
          "output_type": "stream",
          "text": [
            "/usr/local/lib/python3.6/dist-packages/ipykernel_launcher.py:5: DeprecationWarning: Call to deprecated `__getitem__` (Method will be removed in 4.0.0, use self.wv.__getitem__() instead).\n",
            "  \"\"\"\n",
            "/usr/local/lib/python3.6/dist-packages/ipykernel_launcher.py:6: DeprecationWarning: Call to deprecated `__getitem__` (Method will be removed in 4.0.0, use self.wv.__getitem__() instead).\n",
            "  \n"
          ],
          "name": "stderr"
        }
      ]
    }
  ]
}